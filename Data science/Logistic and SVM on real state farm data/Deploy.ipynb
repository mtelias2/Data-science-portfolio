{
 "cells": [
  {
   "cell_type": "markdown",
   "metadata": {},
   "source": [
    "## This notebook is created as part of the pre-assesment application process for State farm. \n",
    "\n",
    "### Applicant: Moutaz Elias\n",
    "\n",
    "Deploy.ipynb depolys the modules one train and test data sets producing propabilities as outputs for the test data sets and various evaluation metrics for the train data set.\n",
    "\n",
    "Data has been extracted from:https://drive.google.com/drive/folders/1J7N62rO2E-cC_H-ymPskgMINGtmPT_rg"
   ]
  },
  {
   "cell_type": "markdown",
   "metadata": {},
   "source": [
    "## Deploy.ipynb"
   ]
  },
  {
   "cell_type": "code",
   "execution_count": 1,
   "metadata": {},
   "outputs": [],
   "source": [
    "#importing relevant libraries\n",
    "import numpy as np\n",
    "import pickle as pkl\n",
    "import os as os\n",
    "import pandas as pd"
   ]
  },
  {
   "cell_type": "code",
   "execution_count": 2,
   "metadata": {},
   "outputs": [],
   "source": [
    "#Turning off warning and other jupyter specific options\n",
    "import warnings\n",
    "warnings.filterwarnings('ignore')\n",
    "%matplotlib inline"
   ]
  },
  {
   "cell_type": "code",
   "execution_count": 3,
   "metadata": {},
   "outputs": [],
   "source": [
    "#loading x_test and models sets\n",
    "pickle_in = open(\"logModel.pickle\",\"rb\")\n",
    "log = pkl.load(pickle_in)\n",
    "\n",
    "pickle_in = open(\"SVM.pickle\",\"rb\")\n",
    "svm = pkl.load(pickle_in)\n",
    "\n",
    "pickle_in = open(\"x_test.pickle\",\"rb\")\n",
    "x_test = pkl.load(pickle_in)"
   ]
  },
  {
   "cell_type": "code",
   "execution_count": 4,
   "metadata": {},
   "outputs": [],
   "source": [
    "#log model\n",
    "log_proba = log.predict_proba(x_test)\n",
    "np.savetxt(\"results1.csv\", log_proba[:,1], delimiter=\",\")"
   ]
  },
  {
   "cell_type": "code",
   "execution_count": 5,
   "metadata": {},
   "outputs": [],
   "source": [
    "#svm model\n",
    "svm_proba = svm.predict_proba(x_test)\n",
    "np.savetxt(\"results2.csv\", svm_proba[:,1], delimiter=\",\")"
   ]
  },
  {
   "cell_type": "markdown",
   "metadata": {},
   "source": [
    "# End of assignment"
   ]
  },
  {
   "cell_type": "code",
   "execution_count": 14,
   "metadata": {},
   "outputs": [],
   "source": [
    "log_error_prob=np.genfromtxt(\"../results1.csv\")"
   ]
  },
  {
   "cell_type": "code",
   "execution_count": 8,
   "metadata": {},
   "outputs": [],
   "source": [
    "svm_error_prob=np.genfromtxt(\"../results2.csv\")"
   ]
  },
  {
   "cell_type": "code",
   "execution_count": 25,
   "metadata": {},
   "outputs": [],
   "source": [
    "count_log_normal=len(log_proba[log_proba[:,1]>0.5,1])\n",
    "count_svm_normal=len(svm_proba[svm_proba[:,1]>0.5,1])"
   ]
  },
  {
   "cell_type": "code",
   "execution_count": 26,
   "metadata": {},
   "outputs": [],
   "source": [
    "count_log_correct=len(log_error_prob[log_error_prob>0.5])\n",
    "count_svm_correct=len(svm_error_prob[svm_error_prob>0.5])"
   ]
  },
  {
   "cell_type": "code",
   "execution_count": 28,
   "metadata": {},
   "outputs": [
    {
     "name": "stdout",
     "output_type": "stream",
     "text": [
      "1943\n"
     ]
    }
   ],
   "source": [
    "print(count_svm_normal)"
   ]
  },
  {
   "cell_type": "code",
   "execution_count": 27,
   "metadata": {},
   "outputs": [
    {
     "name": "stdout",
     "output_type": "stream",
     "text": [
      "1943\n"
     ]
    }
   ],
   "source": [
    "print(count_svm_correct)"
   ]
  },
  {
   "cell_type": "code",
   "execution_count": null,
   "metadata": {},
   "outputs": [],
   "source": []
  }
 ],
 "metadata": {
  "kernelspec": {
   "display_name": "Python 3",
   "language": "python",
   "name": "python3"
  },
  "language_info": {
   "codemirror_mode": {
    "name": "ipython",
    "version": 3
   },
   "file_extension": ".py",
   "mimetype": "text/x-python",
   "name": "python",
   "nbconvert_exporter": "python",
   "pygments_lexer": "ipython3",
   "version": "3.8.3"
  }
 },
 "nbformat": 4,
 "nbformat_minor": 4
}
